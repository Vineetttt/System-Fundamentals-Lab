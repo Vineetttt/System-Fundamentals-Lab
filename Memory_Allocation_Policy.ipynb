{
  "nbformat": 4,
  "nbformat_minor": 0,
  "metadata": {
    "colab": {
      "provenance": [],
      "authorship_tag": "ABX9TyPwDtt6/OmiyGfTAWs9a0qg"
    },
    "kernelspec": {
      "name": "python3",
      "display_name": "Python 3"
    },
    "language_info": {
      "name": "python"
    }
  },
  "cells": [
    {
      "cell_type": "markdown",
      "source": [
        "<h1 align=\"center\">MEMORY ALLOCATION POLICY </h1>"
      ],
      "metadata": {
        "id": "ho9EZwwCQeU7"
      }
    },
    {
      "cell_type": "markdown",
      "source": [
        "First Fit Algorithm"
      ],
      "metadata": {
        "id": "gsU9Qq8xQjM0"
      }
    },
    {
      "cell_type": "code",
      "source": [
        "def firstFit(blockSize,processSize):\n",
        "  n = len(blockSize)\n",
        "  m = len(processSize)\n",
        "  allocation = [-1]*m \n",
        "  for i in range(m):\n",
        "    for j in range(n):\n",
        "      if blockSize[j] >= processSize[i]:\n",
        "        allocation[i] = j\n",
        "        blockSize[j] -= processSize[i]\n",
        "        break\n",
        "\n",
        "  print(\"Process No. \\t Process Size \\t Block No.\")\n",
        "  for i in range(m):\n",
        "    print(i+1,\"\\t\\t\",processSize[i],end='\\t\\t\\t')\n",
        "    if allocation[i] != -1:\n",
        "      print(allocation[i] + 1)\n",
        "    else:\n",
        "      print(\"No block allocated\")    "
      ],
      "metadata": {
        "id": "PY2u_0GfQjXb"
      },
      "execution_count": null,
      "outputs": []
    },
    {
      "cell_type": "code",
      "source": [
        "blockSize = list(map(int, input(\"Enter the block size list: \").split()))\n",
        "processSize = list(map(int, input(\"Enter the process size list: \").split()))\n",
        "firstFit(blockSize,processSize)"
      ],
      "metadata": {
        "colab": {
          "base_uri": "https://localhost:8080/"
        },
        "id": "pncpmt8tVq2-",
        "outputId": "593b89aa-dd39-4f07-d7ff-a81886d92217"
      },
      "execution_count": null,
      "outputs": [
        {
          "output_type": "stream",
          "name": "stdout",
          "text": [
            "Enter the block size list: 100 500 200 300 600\n",
            "Enter the process size list: 212 417 112 426\n",
            "Process No. \t Process Size \t Block No.\n",
            "1 \t\t 212\t\t\t2\n",
            "2 \t\t 417\t\t\t5\n",
            "3 \t\t 112\t\t\t2\n",
            "4 \t\t 426\t\t\tNo block allocated\n"
          ]
        }
      ]
    },
    {
      "cell_type": "markdown",
      "source": [
        "Best Fit Algorithm"
      ],
      "metadata": {
        "id": "24XGm4dUYLgD"
      }
    },
    {
      "cell_type": "code",
      "source": [
        "def bestFit(blockSize,processSize):\n",
        "  n = len(blockSize)\n",
        "  m = len(processSize)\n",
        "  allocation = [-1]*m\n",
        "  for i in range(m):\n",
        "    bestIndex = -1\n",
        "    minDiff = float('inf')\n",
        "    for j in range(n):\n",
        "      if blockSize[j] >= processSize[i]:\n",
        "        diff = blockSize[j]-processSize[i]\n",
        "        if diff < minDiff:\n",
        "          bestIndex = j\n",
        "          minDiff = diff\n",
        "    if bestIndex != -1:\n",
        "      allocation[i] = bestIndex\n",
        "      blockSize[bestIndex] -= processSize[i]\n",
        "  print(\"Process No. \\t Process Size \\t Block No.\")\n",
        "  for i in range(m):\n",
        "    print(i+1,\"\\t\\t\",processSize[i],end='\\t\\t\\t')\n",
        "    if allocation[i] != -1:\n",
        "      print(allocation[i] + 1)\n",
        "    else:\n",
        "      print(\"No block allocated\")  "
      ],
      "metadata": {
        "id": "WF5Qc_xnW3cI"
      },
      "execution_count": null,
      "outputs": []
    },
    {
      "cell_type": "code",
      "source": [
        "blockSize = list(map(int, input(\"Enter the block size list: \").split()))\n",
        "processSize = list(map(int, input(\"Enter the process size list: \").split()))\n",
        "bestFit(blockSize,processSize)"
      ],
      "metadata": {
        "colab": {
          "base_uri": "https://localhost:8080/"
        },
        "id": "BZRWs4YHdmn-",
        "outputId": "2104bda7-7eaf-48a1-892d-fc547e92b83a"
      },
      "execution_count": null,
      "outputs": [
        {
          "output_type": "stream",
          "name": "stdout",
          "text": [
            "Enter the block size list: 100 500 200 300 600\n",
            "Enter the process size list: 212 417 112 426\n",
            "Process No. \t Process Size \t Block No.\n",
            "1 \t\t 212\t\t\t4\n",
            "2 \t\t 417\t\t\t2\n",
            "3 \t\t 112\t\t\t3\n",
            "4 \t\t 426\t\t\t5\n"
          ]
        }
      ]
    },
    {
      "cell_type": "markdown",
      "source": [
        "Worst Fit Alogrithm"
      ],
      "metadata": {
        "id": "nbfNadpXfOm2"
      }
    },
    {
      "cell_type": "code",
      "source": [
        "def worstFit(blockSize,processSize):\n",
        "  n = len(blockSize)\n",
        "  m = len(processSize)\n",
        "  allocation = [-1]*m\n",
        "  for i in range(m):\n",
        "    worstIndex = -1\n",
        "    for j in range(n):\n",
        "      if blockSize[j] >= processSize[i]:\n",
        "        if worstIndex == -1:\n",
        "          worstIndex = j\n",
        "        elif blockSize[worstIndex] < blockSize[j]:\n",
        "          worstIndex = j\n",
        "    if worstIndex != -1:\n",
        "      allocation[i] = worstIndex\n",
        "      blockSize[worstIndex] -= processSize[i]\n",
        "  print(\"Process No. \\t Process Size \\t Block No.\")\n",
        "  for i in range(m):\n",
        "    print(i+1,\"\\t\\t\",processSize[i],end='\\t\\t\\t')\n",
        "    if allocation[i] != -1:\n",
        "      print(allocation[i] + 1)\n",
        "    else:\n",
        "      print(\"No block allocated\")  "
      ],
      "metadata": {
        "id": "of1GxCCxdmrY"
      },
      "execution_count": null,
      "outputs": []
    },
    {
      "cell_type": "code",
      "source": [
        "blockSize = list(map(int, input(\"Enter the block size list: \").split()))\n",
        "processSize = list(map(int, input(\"Enter the process size list: \").split()))\n",
        "worstFit(blockSize,processSize)"
      ],
      "metadata": {
        "colab": {
          "base_uri": "https://localhost:8080/"
        },
        "id": "AidU0gibgp1g",
        "outputId": "9f0dea3f-912a-436c-d58a-c8e8a50e3448"
      },
      "execution_count": null,
      "outputs": [
        {
          "output_type": "stream",
          "name": "stdout",
          "text": [
            "Enter the block size list: 100 500 200 300 600\n",
            "Enter the process size list: 212 417 112 426\n",
            "Process No. \t Process Size \t Block No.\n",
            "1 \t\t 212\t\t\t5\n",
            "2 \t\t 417\t\t\t2\n",
            "3 \t\t 112\t\t\t5\n",
            "4 \t\t 426\t\t\tNo block allocated\n"
          ]
        }
      ]
    }
  ]
}