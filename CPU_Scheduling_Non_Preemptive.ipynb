{
  "nbformat": 4,
  "nbformat_minor": 0,
  "metadata": {
    "colab": {
      "provenance": [],
      "authorship_tag": "ABX9TyPTM+jD5SQBw0+GqT1kReS+",
      "include_colab_link": true
    },
    "kernelspec": {
      "name": "python3",
      "display_name": "Python 3"
    },
    "language_info": {
      "name": "python"
    }
  },
  "cells": [
    {
      "cell_type": "markdown",
      "metadata": {
        "id": "view-in-github",
        "colab_type": "text"
      },
      "source": [
        "<a href=\"https://colab.research.google.com/github/Vineetttt/System-Fundamentals-Lab/blob/main/CPU_Scheduling_Non_Preemptive.ipynb\" target=\"_parent\"><img src=\"https://colab.research.google.com/assets/colab-badge.svg\" alt=\"Open In Colab\"/></a>"
      ]
    },
    {
      "cell_type": "markdown",
      "source": [
        "FCFC CPU SCHEDULING"
      ],
      "metadata": {
        "id": "ef0jEbee6RK8"
      }
    },
    {
      "cell_type": "code",
      "source": [
        "class Process:\n",
        "    def __init__(self, process_id, arrival_time, burst_time):\n",
        "        self.process_id = process_id\n",
        "        self.arrival_time = arrival_time\n",
        "        self.burst_time = burst_time\n",
        "\n",
        "def FCFS(processes):\n",
        "    n = len(processes)\n",
        "    completion_time = [0] * n\n",
        "    turnaround_time = [0] * n\n",
        "    waiting_time = [0] * n\n",
        "\n",
        "    # Calculate completion time, turnaround time, and waiting time for each process\n",
        "    completion_time[0] = processes[0].burst_time\n",
        "    for i in range(1, n):\n",
        "        completion_time[i] = completion_time[i - 1] + processes[i].burst_time\n",
        "\n",
        "    for i in range(n):\n",
        "        turnaround_time[i] = completion_time[i] - processes[i].arrival_time\n",
        "        waiting_time[i] = turnaround_time[i] - processes[i].burst_time\n",
        "\n",
        "    total_turnaround_time = sum(turnaround_time)\n",
        "    total_waiting_time = sum(waiting_time)\n",
        "    average_turnaround_time = total_turnaround_time / n\n",
        "    average_waiting_time = total_waiting_time / n\n",
        "\n",
        "    # Print the results\n",
        "    print(\"Process\\tArrival Time\\tBurst Time\\tCompletion Time\\tTurnaround Time\\tWaiting Time\")\n",
        "    for i in range(n):\n",
        "        print(f\"{processes[i].process_id}\\t\\t{processes[i].arrival_time}\\t\\t{processes[i].burst_time}\\t\\t\"\n",
        "              f\"{completion_time[i]}\\t\\t{turnaround_time[i]}\\t\\t{waiting_time[i]}\")\n",
        "    print(\"Average Turnaround Time:\", average_turnaround_time)\n",
        "    print(\"Average Waiting Time:\", average_waiting_time)\n",
        "\n",
        "# Example usage\n",
        "processes = [\n",
        "    Process(1, 0, 5),\n",
        "    Process(2, 2, 3),\n",
        "    Process(3, 6, 2),\n",
        "    Process(4, 7, 3)\n",
        "]\n",
        "\n",
        "FCFS(processes)\n"
      ],
      "metadata": {
        "colab": {
          "base_uri": "https://localhost:8080/"
        },
        "id": "alIUwrgh6TB0",
        "outputId": "9b699bb9-2625-46a0-a9e1-57d5a930fc0b"
      },
      "execution_count": 19,
      "outputs": [
        {
          "output_type": "stream",
          "name": "stdout",
          "text": [
            "Process\tArrival Time\tBurst Time\tCompletion Time\tTurnaround Time\tWaiting Time\n",
            "1\t\t0\t\t5\t\t5\t\t5\t\t0\n",
            "2\t\t2\t\t3\t\t8\t\t6\t\t3\n",
            "3\t\t6\t\t2\t\t10\t\t4\t\t2\n",
            "4\t\t7\t\t3\t\t13\t\t6\t\t3\n",
            "Average Turnaround Time: 5.25\n",
            "Average Waiting Time: 2.0\n"
          ]
        }
      ]
    },
    {
      "cell_type": "code",
      "source": [
        "def fcfs_scheduling(processes):\n",
        "    n = len(processes)\n",
        "\n",
        "    # Sort processes based on arrival time\n",
        "    processes.sort(key=lambda x: x[1])\n",
        "\n",
        "    schedule = []  # Execution order\n",
        "    current_time = 0\n",
        "\n",
        "    for process in processes:\n",
        "        process_id, arrival_time, burst_time = process\n",
        "        start_time = max(current_time, arrival_time)\n",
        "        completion_time = start_time + burst_time\n",
        "        exit_time = completion_time\n",
        "\n",
        "        schedule.append((process_id, start_time, completion_time, exit_time))\n",
        "        current_time = completion_time\n",
        "\n",
        "    # Calculate waiting time and turnaround time\n",
        "    waiting_time = []\n",
        "    turnaround_time = []\n",
        "    for process in schedule:\n",
        "        process_id, start_time, completion_time, exit_time = process\n",
        "        arrival_time = [p[1] for p in processes if p[0] == process_id][0]\n",
        "        waiting_time.append(start_time - arrival_time)\n",
        "        turnaround_time.append(completion_time - arrival_time)\n",
        "\n",
        "    # Calculate average waiting time and average turnaround time\n",
        "    avg_waiting_time = sum(waiting_time) / n\n",
        "    avg_turnaround_time = sum(turnaround_time) / n\n",
        "\n",
        "    # Display the schedule and results\n",
        "    print(\"Process\\tArrival Time\\tBurst Time\\tWaiting Time\\tTurnaround Time\")\n",
        "    for process, wait_time, turn_time in zip(schedule, waiting_time, turnaround_time):\n",
        "        process_id, start_time, completion_time, exit_time = process\n",
        "        print(f\"{process_id}\\t\\t{start_time}\\t\\t{completion_time - start_time}\\t\\t{wait_time}\\t\\t{turn_time}\")\n",
        "\n",
        "    # Calculate average waiting time and average turnaround time\n",
        "    avg_waiting_time = sum(waiting_time) / n\n",
        "    avg_turnaround_time = sum(turnaround_time) / n\n",
        "\n",
        "    print(f\"\\nAverage Waiting Time: {avg_waiting_time}\")\n",
        "    print(f\"Average Turnaround Time: {avg_turnaround_time}\")"
      ],
      "metadata": {
        "id": "E5TNXuv33fVW"
      },
      "execution_count": null,
      "outputs": []
    },
    {
      "cell_type": "code",
      "source": [
        "n = int(input(\"Enter the number of processes: \"))\n",
        "\n",
        "processes = []\n",
        "for i in range(n):\n",
        "  print(\"Process\",i+1)\n",
        "  process_id = input(\"Process ID: \")\n",
        "  arrival_time = int(input(\"Arrival Time: \"))\n",
        "  burst_time = int(input(\"Burst Time: \"))\n",
        "\n",
        "  processes.append((process_id, arrival_time, burst_time))\n",
        "\n",
        "fcfs_scheduling(processes)"
      ],
      "metadata": {
        "colab": {
          "base_uri": "https://localhost:8080/"
        },
        "id": "QGaB16ap4wMC",
        "outputId": "253e26a4-3f76-41bd-8a09-182b0d235c74"
      },
      "execution_count": null,
      "outputs": [
        {
          "output_type": "stream",
          "name": "stdout",
          "text": [
            "Enter the number of processes: 4\n",
            "Process 1\n",
            "Process ID: 1\n",
            "Arrival Time: 0\n",
            "Burst Time: 6\n",
            "Process 2\n",
            "Process ID: 2\n",
            "Arrival Time: 2\n",
            "Burst Time: 4\n",
            "Process 3\n",
            "Process ID: 3\n",
            "Arrival Time: 4\n",
            "Burst Time: 8\n",
            "Process 4\n",
            "Process ID: 4\n",
            "Arrival Time: 6\n",
            "Burst Time: 1\n",
            "Process\tArrival Time\tBurst Time\tWaiting Time\tTurnaround Time\n",
            "1\t\t0\t\t6\t\t0\t\t6\n",
            "2\t\t6\t\t4\t\t4\t\t8\n",
            "3\t\t10\t\t8\t\t6\t\t14\n",
            "4\t\t18\t\t1\t\t12\t\t13\n",
            "\n",
            "Average Waiting Time: 5.5\n",
            "Average Turnaround Time: 10.25\n"
          ]
        }
      ]
    },
    {
      "cell_type": "markdown",
      "source": [
        "SJF CPU SCHEDULING"
      ],
      "metadata": {
        "id": "U_girtWa6XBM"
      }
    },
    {
      "cell_type": "code",
      "source": [
        "class Process:\n",
        "    def __init__(self, process_id, arrival_time, burst_time):\n",
        "        self.process_id = process_id\n",
        "        self.arrival_time = arrival_time\n",
        "        self.burst_time = burst_time\n",
        "\n",
        "def sjf_scheduling(processes):\n",
        "    # Sort the processes based on arrival time (if arrival times are equal, based on burst time)\n",
        "    processes.sort(key=lambda x: (x.burst_time, x.arrival_time))\n",
        "\n",
        "    n = len(processes)\n",
        "    completion_time = [0] * n\n",
        "    turnaround_time = [0] * n\n",
        "    waiting_time = [0] * n\n",
        "\n",
        "    # Calculate completion time, turnaround time, and waiting time for each process\n",
        "    completion_time[0] = processes[0].burst_time\n",
        "    for i in range(1, n):\n",
        "        completion_time[i] = completion_time[i - 1] + processes[i].burst_time\n",
        "\n",
        "    for i in range(n):\n",
        "        turnaround_time[i] = completion_time[i] - processes[i].arrival_time\n",
        "        waiting_time[i] = turnaround_time[i] - processes[i].burst_time\n",
        "\n",
        "    total_turnaround_time = sum(turnaround_time)\n",
        "    total_waiting_time = sum(waiting_time)\n",
        "    average_turnaround_time = total_turnaround_time / n\n",
        "    average_waiting_time = total_waiting_time / n\n",
        "\n",
        "    # Print the results\n",
        "    print(\"Process\\tArrival Time\\tBurst Time\\tCompletion Time\\tTurnaround Time\\tWaiting Time\")\n",
        "    for i in range(n):\n",
        "        print(f\"{processes[i].process_id}\\t\\t{processes[i].arrival_time}\\t\\t{processes[i].burst_time}\\t\\t\"\n",
        "              f\"{completion_time[i]}\\t\\t{turnaround_time[i]}\\t\\t{waiting_time[i]}\")\n",
        "    print(\"Average Turnaround Time:\", average_turnaround_time)\n",
        "    print(\"Average Waiting Time:\", average_waiting_time)\n",
        "\n",
        "# Example usage\n",
        "processes = [\n",
        "    Process(1, 0, 2),\n",
        "    Process(2, 0, 3),\n",
        "    Process(3, 0, 3),\n",
        "    Process(4, 0, 5)\n",
        "]\n",
        "\n",
        "sjf_scheduling(processes)\n"
      ],
      "metadata": {
        "colab": {
          "base_uri": "https://localhost:8080/"
        },
        "id": "khLl_6WP6Ytp",
        "outputId": "1727417d-e2b0-4690-9cae-f0baa0827d75"
      },
      "execution_count": 20,
      "outputs": [
        {
          "output_type": "stream",
          "name": "stdout",
          "text": [
            "Process\tArrival Time\tBurst Time\tCompletion Time\tTurnaround Time\tWaiting Time\n",
            "1\t\t0\t\t2\t\t2\t\t2\t\t0\n",
            "2\t\t0\t\t3\t\t5\t\t5\t\t2\n",
            "3\t\t0\t\t3\t\t8\t\t8\t\t5\n",
            "4\t\t0\t\t5\t\t13\t\t13\t\t8\n",
            "Average Turnaround Time: 7.0\n",
            "Average Waiting Time: 3.75\n"
          ]
        }
      ]
    },
    {
      "cell_type": "code",
      "source": [
        "class Process:\n",
        "    def __init__(self, process_id, burst_time, priority):\n",
        "        self.process_id = process_id\n",
        "        self.burst_time = burst_time\n",
        "        self.priority = priority\n",
        "\n",
        "def non_preemptive_priority_scheduling(processes):\n",
        "    # Sort the processes based on priority (lower number = higher priority)\n",
        "    processes.sort(key=lambda x: x.priority)\n",
        "\n",
        "    completion_time = [0] * len(processes)\n",
        "    turnaround_time = [0] * len(processes)\n",
        "    waiting_time = [0] * len(processes)\n",
        "\n",
        "    completion_time[0] = processes[0].burst_time\n",
        "    for i in range(1, len(processes)):\n",
        "        completion_time[i] = completion_time[i - 1] + processes[i].burst_time\n",
        "\n",
        "    for i in range(len(processes)):\n",
        "        turnaround_time[i] = completion_time[i]\n",
        "        waiting_time[i] = turnaround_time[i] - processes[i].burst_time\n",
        "\n",
        "    total_turnaround_time = sum(turnaround_time)\n",
        "    total_waiting_time = sum(waiting_time)\n",
        "    average_turnaround_time = total_turnaround_time / len(processes)\n",
        "    average_waiting_time = total_waiting_time / len(processes)\n",
        "\n",
        "    # Print the results\n",
        "    print(\"Process\\tBurst Time\\tPriority\\tCompletion Time\\tTurnaround Time\\tWaiting Time\")\n",
        "    for i in range(len(processes)):\n",
        "        print(f\"{processes[i].process_id}\\t\\t{processes[i].burst_time}\\t\\t{processes[i].priority}\\t\\t\"\n",
        "              f\"{completion_time[i]}\\t\\t{turnaround_time[i]}\\t\\t{waiting_time[i]}\")\n",
        "    print(\"Average Turnaround Time:\", average_turnaround_time)\n",
        "    print(\"Average Waiting Time:\", average_waiting_time)\n",
        "\n",
        "# Example usage\n",
        "processes = [\n",
        "    Process(1, 9, 2),\n",
        "    Process(2, 4, 1),\n",
        "    Process(3, 9, 3)\n",
        "]\n",
        "\n",
        "non_preemptive_priority_scheduling(processes)\n"
      ],
      "metadata": {
        "colab": {
          "base_uri": "https://localhost:8080/"
        },
        "id": "q4ggJKEK7eiL",
        "outputId": "cd4cf884-a2ea-4502-dfae-748f9f6eef29"
      },
      "execution_count": 21,
      "outputs": [
        {
          "output_type": "stream",
          "name": "stdout",
          "text": [
            "Process\tBurst Time\tPriority\tCompletion Time\tTurnaround Time\tWaiting Time\n",
            "2\t\t4\t\t1\t\t4\t\t4\t\t0\n",
            "1\t\t9\t\t2\t\t13\t\t13\t\t4\n",
            "3\t\t9\t\t3\t\t22\t\t22\t\t13\n",
            "Average Turnaround Time: 13.0\n",
            "Average Waiting Time: 5.666666666666667\n"
          ]
        }
      ]
    }
  ]
}