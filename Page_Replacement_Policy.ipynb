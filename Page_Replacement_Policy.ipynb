{
  "nbformat": 4,
  "nbformat_minor": 0,
  "metadata": {
    "colab": {
      "provenance": [],
      "authorship_tag": "ABX9TyPp0joZyTj4o0caUcJLADlZ",
      "include_colab_link": true
    },
    "kernelspec": {
      "name": "python3",
      "display_name": "Python 3"
    },
    "language_info": {
      "name": "python"
    }
  },
  "cells": [
    {
      "cell_type": "markdown",
      "metadata": {
        "id": "view-in-github",
        "colab_type": "text"
      },
      "source": [
        "<a href=\"https://colab.research.google.com/github/Vineetttt/System-Fundamentals-Lab/blob/main/Page_Replacement_Policy.ipynb\" target=\"_parent\"><img src=\"https://colab.research.google.com/assets/colab-badge.svg\" alt=\"Open In Colab\"/></a>"
      ]
    },
    {
      "cell_type": "markdown",
      "source": [
        "<h1 align=\"center\">Page Replacement Policy </h1>"
      ],
      "metadata": {
        "id": "K0XMRZFyhTmG"
      }
    },
    {
      "cell_type": "markdown",
      "source": [
        "FIFO Page Replacement"
      ],
      "metadata": {
        "id": "siKDT3pUs2Zy"
      }
    },
    {
      "cell_type": "code",
      "source": [
        "def FIFO(page_list, frame_size):\n",
        "    frames = []\n",
        "    page_faults = 0\n",
        "    for page in page_list:\n",
        "        if page not in frames:\n",
        "            page_faults += 1\n",
        "            if len(frames) == frame_size:\n",
        "                frames.pop(0)\n",
        "            frames.append(page)\n",
        "    page_hits = len(page_list) - page_faults\n",
        "    return page_hits,page_faults"
      ],
      "metadata": {
        "id": "jQLW4vWps4pS"
      },
      "execution_count": null,
      "outputs": []
    },
    {
      "cell_type": "code",
      "source": [
        "refString = [7,0,1,2,0,3,0,4,2,3,0,3,2]\n",
        "n = 4\n",
        "pageHits,pageFaults = FIFO(refString,n)\n",
        "print(\"Total requests: \",len(refString))\n",
        "print(\"Number of page hits: \",pageHits)\n",
        "print(\"Number of page faults: \",pageFaults)"
      ],
      "metadata": {
        "colab": {
          "base_uri": "https://localhost:8080/"
        },
        "id": "HlmhYQZXujic",
        "outputId": "37f399ef-3bf6-407e-adad-e62cf3ca59b7"
      },
      "execution_count": null,
      "outputs": [
        {
          "output_type": "stream",
          "name": "stdout",
          "text": [
            "Total requests:  13\n",
            "Number of page hits:  6\n",
            "Number of page faults:  7\n"
          ]
        }
      ]
    },
    {
      "cell_type": "markdown",
      "source": [
        "LRU Page Replacement"
      ],
      "metadata": {
        "id": "sXDuZm70hTop"
      }
    },
    {
      "cell_type": "code",
      "source": [
        "def LRU(page_list, frame_size):\n",
        "    frames = []\n",
        "    page_faults = 0\n",
        "    for page in page_list:\n",
        "        if page in frames:\n",
        "            frames.remove(page)\n",
        "        else:\n",
        "            page_faults += 1\n",
        "            if len(frames) == frame_size:\n",
        "                frames.pop(0)\n",
        "        frames.append(page)\n",
        "    page_hits = len(page_list) - page_faults\n",
        "    return page_hits,page_faults"
      ],
      "metadata": {
        "id": "7Zykcw2yvTSg"
      },
      "execution_count": null,
      "outputs": []
    },
    {
      "cell_type": "code",
      "source": [
        "refString = [7,0,1,2,0,3,0,4,2,3,0,3,2]\n",
        "n = 4\n",
        "pageHits,pageFaults = LRU(refString,n)\n",
        "print(\"Total requests: \",len(refString))\n",
        "print(\"Number of page hits: \",pageHits)\n",
        "print(\"Number of page faults: \",pageFaults)"
      ],
      "metadata": {
        "id": "Tf0emEtihce3",
        "colab": {
          "base_uri": "https://localhost:8080/"
        },
        "outputId": "c8657e53-a305-4525-caca-3192753cffb3"
      },
      "execution_count": null,
      "outputs": [
        {
          "output_type": "stream",
          "name": "stdout",
          "text": [
            "Total requests:  13\n",
            "Number of page hits:  7\n",
            "Number of page faults:  6\n"
          ]
        }
      ]
    },
    {
      "cell_type": "markdown",
      "source": [
        "Optimal Page Replacement"
      ],
      "metadata": {
        "id": "4GA22ovtv261"
      }
    },
    {
      "cell_type": "code",
      "source": [
        "def optimal(page_list, frame_size):\n",
        "    frames = []\n",
        "    page_faults = 0\n",
        "    for i in range(len(page_list)):\n",
        "        if page_list[i] not in frames:\n",
        "            page_faults += 1\n",
        "            if len(frames) < frame_size:\n",
        "                frames.append(page_list[i])\n",
        "            else:\n",
        "                distances = []\n",
        "                for j in range(len(frames)):\n",
        "                    if frames[j] in page_list[i+1:]:\n",
        "                        distances.append(page_list[i+1:].index(frames[j]))\n",
        "                    else:\n",
        "                        distances.append(len(page_list))\n",
        "                frames[distances.index(max(distances))] = page_list[i]\n",
        "    page_hits = len(page_list) - page_faults\n",
        "    return page_hits,page_faults"
      ],
      "metadata": {
        "id": "42zF5G2rzh9U"
      },
      "execution_count": null,
      "outputs": []
    },
    {
      "cell_type": "code",
      "source": [
        "refString = [7,0,1,2,0,3,0,4,2,3,0,3,2]\n",
        "n = 4\n",
        "pageHits,pageFaults = optimal(refString,n)\n",
        "print(\"Total requests: \",len(refString))\n",
        "print(\"Number of page hits: \",pageHits)\n",
        "print(\"Number of page faults: \",pageFaults)"
      ],
      "metadata": {
        "colab": {
          "base_uri": "https://localhost:8080/"
        },
        "id": "dxfuo1mX596s",
        "outputId": "e22a3dfa-7005-41ce-871f-109b60da2fed"
      },
      "execution_count": null,
      "outputs": [
        {
          "output_type": "stream",
          "name": "stdout",
          "text": [
            "Total requests:  13\n",
            "Number of page hits:  7\n",
            "Number of page faults:  6\n"
          ]
        }
      ]
    }
  ]
}