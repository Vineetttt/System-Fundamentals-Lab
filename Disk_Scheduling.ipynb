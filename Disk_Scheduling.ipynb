{
  "nbformat": 4,
  "nbformat_minor": 0,
  "metadata": {
    "colab": {
      "provenance": [],
      "authorship_tag": "ABX9TyOVKZNv46RM/qfc0IcUctSq"
    },
    "kernelspec": {
      "name": "python3",
      "display_name": "Python 3"
    },
    "language_info": {
      "name": "python"
    }
  },
  "cells": [
    {
      "cell_type": "markdown",
      "source": [
        "<h1 align=\"center\"> DISK SCHEDULING ALGORITHMS </h1>"
      ],
      "metadata": {
        "id": "AXIREusXP9o9"
      }
    },
    {
      "cell_type": "markdown",
      "source": [
        "FCFS Disk Scheduling"
      ],
      "metadata": {
        "id": "jPvMIGDoP9tS"
      }
    },
    {
      "cell_type": "code",
      "source": [
        "def FCFS(requests,head):\n",
        "  sequence = [head]+requests\n",
        "  seekTime=sum(abs(sequence[i+1]-sequence[i])for i in range(len(sequence)-1))\n",
        "  return seekTime,sequence"
      ],
      "metadata": {
        "id": "hNIXBGUCNg9A"
      },
      "execution_count": null,
      "outputs": []
    },
    {
      "cell_type": "code",
      "source": [
        "n = 200\n",
        "head = 55\n",
        "requests = [93, 176, 42, 148, 27, 14, 180]\n",
        "seekTime,seekSequence = FCFS(requests,head)\n",
        "print(\"Total seek time:\", seekTime)\n",
        "print(\"Seek sequence:\", seekSequence)"
      ],
      "metadata": {
        "colab": {
          "base_uri": "https://localhost:8080/"
        },
        "id": "MnJt6TWGRe90",
        "outputId": "51eeeab5-ad5f-4579-febc-3fa9003e3da1"
      },
      "execution_count": null,
      "outputs": [
        {
          "output_type": "stream",
          "name": "stdout",
          "text": [
            "Total seek time: 661\n",
            "Seek sequence: [55, 93, 176, 42, 148, 27, 14, 180]\n"
          ]
        }
      ]
    },
    {
      "cell_type": "markdown",
      "source": [
        "SSTF Disk Scheduling"
      ],
      "metadata": {
        "id": "g2iGfRrDX7Ab"
      }
    },
    {
      "cell_type": "code",
      "source": [
        "def SSTF(requests, head):\n",
        "    total_seek_time = 0\n",
        "    sequence = []\n",
        "    \n",
        "    while requests:\n",
        "        closest_request = min(requests, key=lambda x: abs(x-head))\n",
        "        sequence.append(head)\n",
        "        total_seek_time += abs(closest_request - head)\n",
        "        head = closest_request\n",
        "        requests.remove(closest_request)\n",
        "        \n",
        "    return total_seek_time,sequence"
      ],
      "metadata": {
        "id": "CW9UzqGRYwPr"
      },
      "execution_count": null,
      "outputs": []
    },
    {
      "cell_type": "code",
      "source": [
        "n = 200\n",
        "head = 50\n",
        "requests = [82, 170, 43, 140, 24, 16, 190]\n",
        "seekTime,seekSequence = SSTF(requests,head)\n",
        "print(\"Total seek time:\", seekTime)\n",
        "print(\"Seek sequence:\", seekSequence)"
      ],
      "metadata": {
        "colab": {
          "base_uri": "https://localhost:8080/"
        },
        "id": "tzEHp0aIazEl",
        "outputId": "0ead5c57-6a7b-4531-a4c7-f1f2f0bbe80b"
      },
      "execution_count": null,
      "outputs": [
        {
          "output_type": "stream",
          "name": "stdout",
          "text": [
            "Total seek time: 208\n",
            "Seek sequence: [50, 43, 24, 16, 82, 140, 170]\n"
          ]
        }
      ]
    },
    {
      "cell_type": "markdown",
      "source": [
        "SCAN Disk Scheduling "
      ],
      "metadata": {
        "id": "7S3eTb2EeUqg"
      }
    },
    {
      "cell_type": "code",
      "source": [
        "def SCAN(head,n,request):\n",
        "  sequence = sorted(requests)\n",
        "  if head in sequence:\n",
        "    sequence.remove(head)\n",
        "  sequence = [head]+[i for i in sequence if i>head]+[n]+[i for i in reversed(sequence) if i<head]\n",
        "  seekTime=sum(abs(sequence[i+1]-sequence[i])for i in range(len(sequence)-1))\n",
        "  return seekTime,sequence"
      ],
      "metadata": {
        "id": "drl_MHXAeWCm"
      },
      "execution_count": null,
      "outputs": []
    },
    {
      "cell_type": "code",
      "source": [
        "requests = [95, 180, 34, 119, 11, 123, 62, 64]\n",
        "head = 50\n",
        "n = 199\n",
        "\n",
        "seekTime, seekSequence = SCAN(head,n,requests)\n",
        "\n",
        "print(\"Total seek time:\", seekTime)\n",
        "print(\"Seek sequence:\", seekSequence)"
      ],
      "metadata": {
        "colab": {
          "base_uri": "https://localhost:8080/"
        },
        "id": "uFPLEhsre3oW",
        "outputId": "a94b6138-7d2b-44e5-f479-99c7a93ab698"
      },
      "execution_count": null,
      "outputs": [
        {
          "output_type": "stream",
          "name": "stdout",
          "text": [
            "Total seek time: 337\n",
            "Seek sequence: [50, 62, 64, 95, 119, 123, 180, 199, 34, 11]\n"
          ]
        }
      ]
    },
    {
      "cell_type": "markdown",
      "source": [
        "C-SCAN Disk Scheduling"
      ],
      "metadata": {
        "id": "nF5406TvDn3H"
      }
    },
    {
      "cell_type": "code",
      "source": [
        "def C_SCAN(head,n,request):\n",
        "  sequence = sorted(requests)\n",
        "  if head in sequence:\n",
        "    sequence.remove(head)AW44\n",
        "  sequence = [head]+[i for i in sequence if i>head]+[n]+[0]+[i for i in sequence if i<head]\n",
        "  seekTime=sum(abs(sequence[i+1]-sequence[i])for i in range(len(sequence)-1))\n",
        "  return seekTime,sequence"
      ],
      "metadata": {
        "id": "sN949_wzDpsW"
      },
      "execution_count": null,
      "outputs": []
    },
    {
      "cell_type": "code",
      "source": [
        "requests = [82, 170, 43, 140, 24, 16, 190]\n",
        "head = 50\n",
        "n = 199\n",
        "\n",
        "seekTime, seekSequence = C_SCAN(head,n,requests)\n",
        "\n",
        "print(\"Total seek time:\", seekTime)\n",
        "print(\"Seek sequence:\", seekSequence)"
      ],
      "metadata": {
        "colab": {
          "base_uri": "https://localhost:8080/"
        },
        "id": "XQxMflaLD4At",
        "outputId": "a1acda66-0abf-4b89-b195-38bf30988eb7"
      },
      "execution_count": null,
      "outputs": [
        {
          "output_type": "stream",
          "name": "stdout",
          "text": [
            "Total seek time: 391\n",
            "Seek sequence: [50, 82, 140, 170, 190, 199, 0, 16, 24, 43]\n"
          ]
        }
      ]
    },
    {
      "cell_type": "markdown",
      "source": [
        "LOOK Disk Scheduling"
      ],
      "metadata": {
        "id": "f1P3QrcyEiYx"
      }
    },
    {
      "cell_type": "code",
      "source": [
        "def LOOK(head,n,request):\n",
        "  sequence = sorted(requests)\n",
        "  if head in sequence:\n",
        "    sequence.remove(head)\n",
        "  sequence=[head]+[i for i in sequence if i > head] + [i for i in reversed(sequence) if i < head]\n",
        "  seekTime=sum(abs(sequence[i+1]-sequence[i])for i in range(len(sequence)-1))\n",
        "  return seekTime,sequence"
      ],
      "metadata": {
        "id": "nj6vT9ACEfds"
      },
      "execution_count": null,
      "outputs": []
    },
    {
      "cell_type": "code",
      "source": [
        "requests = [82, 170, 43, 140, 24, 16, 190]\n",
        "head = 50\n",
        "n = 200\n",
        "\n",
        "seekTime, seekSequence = LOOK(head,n,requests)\n",
        "\n",
        "print(\"Total seek time:\", seekTime)\n",
        "print(\"Seek sequence:\", seekSequence)"
      ],
      "metadata": {
        "colab": {
          "base_uri": "https://localhost:8080/"
        },
        "id": "hmQwz73sFu3G",
        "outputId": "468a1dcc-49a2-4517-8104-33be9baa91e8"
      },
      "execution_count": null,
      "outputs": [
        {
          "output_type": "stream",
          "name": "stdout",
          "text": [
            "Total seek time: 314\n",
            "Seek sequence: [50, 82, 140, 170, 190, 43, 24, 16]\n"
          ]
        }
      ]
    },
    {
      "cell_type": "markdown",
      "source": [
        "C-LOOK Disk Scheduling"
      ],
      "metadata": {
        "id": "BensP_BfG29d"
      }
    },
    {
      "cell_type": "code",
      "source": [
        "def C_LOOK(head,n,request):\n",
        "  sequence = sorted(requests)\n",
        "  if head in sequence:\n",
        "    sequence.remove(head)\n",
        "  sequence=[head]+[i for i in sequence if i > head] + [i for i in sequence if i < head]\n",
        "  seekTime=sum(abs(sequence[i+1]-sequence[i])for i in range(len(sequence)-1))\n",
        "  return seekTime,sequence"
      ],
      "metadata": {
        "id": "LBswzLu2G59b"
      },
      "execution_count": null,
      "outputs": []
    },
    {
      "cell_type": "code",
      "source": [
        "requests = [93, 176, 42, 148, 27, 14, 183]\n",
        "head = 55\n",
        "n = 200\n",
        "\n",
        "seekTime, seekSequence = C_LOOK(head,n,requests)\n",
        "\n",
        "print(\"Total seek time:\", seekTime)\n",
        "print(\"Seek sequence:\", seekSequence)"
      ],
      "metadata": {
        "colab": {
          "base_uri": "https://localhost:8080/"
        },
        "id": "fLK6wUQ-Ho-b",
        "outputId": "a5302c15-f71f-4f38-f4c2-f14b4e094b5b"
      },
      "execution_count": null,
      "outputs": [
        {
          "output_type": "stream",
          "name": "stdout",
          "text": [
            "Total seek time: 325\n",
            "Seek sequence: [55, 93, 148, 176, 183, 14, 27, 42]\n"
          ]
        }
      ]
    }
  ]
}